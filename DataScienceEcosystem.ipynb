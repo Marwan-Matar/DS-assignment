{
 "cells": [
  {
   "cell_type": "markdown",
   "id": "d80dd318-566a-426f-b5f8-551ce5600c16",
   "metadata": {},
   "source": [
    "# Data Science Tools and Ecosystem\n"
   ]
  },
  {
   "cell_type": "markdown",
   "id": "eb77d97c-520c-49d3-b74d-7e8835e9934b",
   "metadata": {},
   "source": [
    "In this notebook, Data Science Tools and Ecosystem are summarized."
   ]
  },
  {
   "cell_type": "markdown",
   "id": "e2df8aba-3af3-4b92-b18e-05ed38d7aa9e",
   "metadata": {},
   "source": [
    "*Objectives:*\n",
    "* <u>List popular languages for Data Science<u>\n",
    "* <u>List popular libraries used for Data Science<u>\n",
    "* <u>List popular tools used for Data Science<u>  "
   ]
  },
  {
   "cell_type": "markdown",
   "id": "8a9942a3-2106-4d8d-997b-b1c19262d2e6",
   "metadata": {},
   "source": [
    "Some of the popular languages that Data Scientists use are:\n",
    "1. Python\n",
    "2. SQL\n",
    "3. R"
   ]
  },
  {
   "cell_type": "markdown",
   "id": "8d0c2e57-1ef7-43f5-b309-cf957b28d006",
   "metadata": {},
   "source": [
    "Some of the commonly used libraries used by Data Scientists include:\n",
    "- NumPy\n",
    "- Keras\n",
    "- Pandas\n",
    "- PyTorch\n",
    "- SciPy"
   ]
  },
  {
   "cell_type": "markdown",
   "id": "08115306-254b-4251-a3d9-ea56adb9358e",
   "metadata": {},
   "source": [
    "| Data Science Tools |\n",
    "|--------------------|\n",
    "| Jupyter Notebooks |\n",
    "| Zeppelin Notebook |\n",
    "| R Studio |\n"
   ]
  },
  {
   "cell_type": "markdown",
   "id": "10aea34b-7982-4bcc-99eb-e50ef028046b",
   "metadata": {},
   "source": [
    "### Below are a few examples of evaluating arithmetic expressions in Python"
   ]
  },
  {
   "cell_type": "code",
   "execution_count": 1,
   "id": "c3f2342d-7f14-4816-be1b-8dda18354c81",
   "metadata": {},
   "outputs": [
    {
     "data": {
      "text/plain": [
       "17"
      ]
     },
     "execution_count": 1,
     "metadata": {},
     "output_type": "execute_result"
    }
   ],
   "source": [
    "#This a simple arithmetic expression to mutiply then add integers\n",
    "(3*4)+5"
   ]
  },
  {
   "cell_type": "code",
   "execution_count": 2,
   "id": "2692a6cc-ecca-4ba0-919c-0422eb8ba49e",
   "metadata": {},
   "outputs": [
    {
     "data": {
      "text/plain": [
       "3.3333333333333335"
      ]
     },
     "execution_count": 2,
     "metadata": {},
     "output_type": "execute_result"
    }
   ],
   "source": [
    "# This will convert 200 minutes to hours by diving by 60\n",
    "200/60"
   ]
  },
  {
   "cell_type": "markdown",
   "id": "f1f80327-22b6-4ada-b266-f9d277e011aa",
   "metadata": {},
   "source": [
    "## Author\n",
    "Marwan"
   ]
  },
  {
   "cell_type": "code",
   "execution_count": null,
   "id": "d0a4a5cf-f0dd-430d-b41e-dbd10fdf705f",
   "metadata": {},
   "outputs": [],
   "source": []
  }
 ],
 "metadata": {
  "kernelspec": {
   "display_name": "Python 3 (ipykernel)",
   "language": "python",
   "name": "python3"
  },
  "language_info": {
   "codemirror_mode": {
    "name": "ipython",
    "version": 3
   },
   "file_extension": ".py",
   "mimetype": "text/x-python",
   "name": "python",
   "nbconvert_exporter": "python",
   "pygments_lexer": "ipython3",
   "version": "3.11.9"
  }
 },
 "nbformat": 4,
 "nbformat_minor": 5
}
